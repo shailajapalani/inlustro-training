{
  "nbformat": 4,
  "nbformat_minor": 0,
  "metadata": {
    "colab": {
      "provenance": []
    },
    "kernelspec": {
      "name": "python3",
      "display_name": "Python 3"
    },
    "language_info": {
      "name": "python"
    }
  },
  "cells": [
    {
      "cell_type": "code",
      "execution_count": 2,
      "metadata": {
        "colab": {
          "base_uri": "https://localhost:8080/"
        },
        "id": "Nnsb9srQUkNY",
        "outputId": "5a52ebb5-95cf-40bd-8516-d94b8bb466e0"
      },
      "outputs": [
        {
          "output_type": "stream",
          "name": "stdout",
          "text": [
            "Enter Your password:abcdef\n",
            "Successfully opened\n",
            "Enter Your password:asdfg\n",
            "you have only 2 left\n",
            "Enter Your password:asdjg\n",
            "you have only 1 left\n",
            "Enter Your password:asdfgh\n",
            "you have only 0 left\n"
          ]
        }
      ],
      "source": [
        "password=\"abcdef\"\n",
        "attempts=3\n",
        "while attempts>0:\n",
        "  x=input(\"Enter Your password:\")\n",
        "  if x==password:\n",
        "    print(\"Successfully opened\")\n",
        "  elif x!=password:\n",
        "    attempts-=1\n",
        "    print(f\"you have only {attempts} left\")\n",
        "  else:\n",
        "    attempts==1\n",
        "    print(\"Try again later\",attempts)\n",
        "\n"
      ]
    },
    {
      "cell_type": "code",
      "source": [
        "list1=[\"apple\",\"orange\"]\n",
        "list2=[\"sigc\",\"Datascience\"]\n",
        "list1+list2\n"
      ],
      "metadata": {
        "colab": {
          "base_uri": "https://localhost:8080/"
        },
        "id": "WknZuYp3i312",
        "outputId": "c7401a3b-62bc-4398-8199-c0b2ad5e7e54"
      },
      "execution_count": null,
      "outputs": [
        {
          "output_type": "execute_result",
          "data": {
            "text/plain": [
              "['apple', 'orange', 'sigc', 'Datascience']"
            ]
          },
          "metadata": {},
          "execution_count": 38
        }
      ]
    },
    {
      "cell_type": "code",
      "source": [
        "list3=['apple', 'orange', 'sigc', 'Datascience']\n",
        "list3[0:2]\n"
      ],
      "metadata": {
        "colab": {
          "base_uri": "https://localhost:8080/"
        },
        "id": "A6B-zxOLnqwN",
        "outputId": "eb9ebb11-bd62-4a03-ad04-da65aae795aa"
      },
      "execution_count": null,
      "outputs": [
        {
          "output_type": "execute_result",
          "data": {
            "text/plain": [
              "['apple', 'orange']"
            ]
          },
          "metadata": {},
          "execution_count": 47
        }
      ]
    },
    {
      "cell_type": "code",
      "source": [
        "list1=[\"apple\",\"orange\"]\n",
        "list1.append[2,\"kiwi\"]"
      ],
      "metadata": {
        "colab": {
          "base_uri": "https://localhost:8080/",
          "height": 159
        },
        "id": "SBXI40t2l161",
        "outputId": "271170b7-3a1f-4ade-8f27-40f79d0cd786"
      },
      "execution_count": null,
      "outputs": [
        {
          "output_type": "error",
          "ename": "TypeError",
          "evalue": "'builtin_function_or_method' object is not subscriptable",
          "traceback": [
            "\u001b[0;31m---------------------------------------------------------------------------\u001b[0m",
            "\u001b[0;31mTypeError\u001b[0m                                 Traceback (most recent call last)",
            "\u001b[0;32m<ipython-input-44-79761b7b61cf>\u001b[0m in \u001b[0;36m<cell line: 0>\u001b[0;34m()\u001b[0m\n\u001b[1;32m      1\u001b[0m \u001b[0mlist1\u001b[0m\u001b[0;34m=\u001b[0m\u001b[0;34m[\u001b[0m\u001b[0;34m\"apple\"\u001b[0m\u001b[0;34m,\u001b[0m\u001b[0;34m\"orange\"\u001b[0m\u001b[0;34m]\u001b[0m\u001b[0;34m\u001b[0m\u001b[0;34m\u001b[0m\u001b[0m\n\u001b[0;32m----> 2\u001b[0;31m \u001b[0mlist1\u001b[0m\u001b[0;34m.\u001b[0m\u001b[0mappend\u001b[0m\u001b[0;34m[\u001b[0m\u001b[0;36m2\u001b[0m\u001b[0;34m,\u001b[0m\u001b[0;34m\"kiwi\"\u001b[0m\u001b[0;34m]\u001b[0m\u001b[0;34m\u001b[0m\u001b[0;34m\u001b[0m\u001b[0m\n\u001b[0m",
            "\u001b[0;31mTypeError\u001b[0m: 'builtin_function_or_method' object is not subscriptable"
          ]
        }
      ]
    },
    {
      "cell_type": "code",
      "source": [
        "list3=['apple', 'orange', 'sigc', 'Datascience']\n",
        "for i in list3:\n",
        "  print(i)\n",
        "\n",
        "\n"
      ],
      "metadata": {
        "colab": {
          "base_uri": "https://localhost:8080/"
        },
        "id": "xu8NxhnfnU4c",
        "outputId": "c90d17b8-ae10-4611-bfc0-b3f38e209773"
      },
      "execution_count": null,
      "outputs": [
        {
          "output_type": "stream",
          "name": "stdout",
          "text": [
            "apple\n",
            "orange\n",
            "sigc\n",
            "Datascience\n"
          ]
        }
      ]
    },
    {
      "cell_type": "code",
      "source": [
        "str=\"Have a nice day!\"\n",
        "x=input(\"Enter a word:\")\n",
        "if x in str:\n",
        "  print(\"True\")\n",
        "else:\n",
        "  print(\"False\")"
      ],
      "metadata": {
        "colab": {
          "base_uri": "https://localhost:8080/"
        },
        "id": "KtUbvNEsn3l2",
        "outputId": "af8a627d-2a90-4275-f0dd-7a7d008558d4"
      },
      "execution_count": null,
      "outputs": [
        {
          "output_type": "stream",
          "name": "stdout",
          "text": [
            "Enter a word:z\n",
            "False\n"
          ]
        }
      ]
    },
    {
      "cell_type": "code",
      "source": [
        "str=\"I love this college\"\n",
        "print(\"love\" in str)"
      ],
      "metadata": {
        "colab": {
          "base_uri": "https://localhost:8080/"
        },
        "id": "5MTILx17o4yc",
        "outputId": "2056856c-6fb1-4315-a602-b644ab9754c8"
      },
      "execution_count": null,
      "outputs": [
        {
          "output_type": "stream",
          "name": "stdout",
          "text": [
            "True\n"
          ]
        }
      ]
    },
    {
      "cell_type": "code",
      "source": [
        "str=\"I love Icecream\"\n",
        "slice(str)"
      ],
      "metadata": {
        "colab": {
          "base_uri": "https://localhost:8080/"
        },
        "id": "y3TmvdOUpfX1",
        "outputId": "8f674506-439c-45b6-e64b-a963ce79ae81"
      },
      "execution_count": null,
      "outputs": [
        {
          "output_type": "execute_result",
          "data": {
            "text/plain": [
              "slice(None, 'I love Icecream', None)"
            ]
          },
          "metadata": {},
          "execution_count": 52
        }
      ]
    },
    {
      "cell_type": "code",
      "source": [
        "str=\"i love icecream\"\n",
        "print(str.upper())"
      ],
      "metadata": {
        "colab": {
          "base_uri": "https://localhost:8080/"
        },
        "id": "GtUP98aup10K",
        "outputId": "f6066171-82dd-4eb3-8e8c-d5d74a78996f"
      },
      "execution_count": null,
      "outputs": [
        {
          "output_type": "stream",
          "name": "stdout",
          "text": [
            "I LOVE ICECREAM\n"
          ]
        }
      ]
    },
    {
      "cell_type": "code",
      "source": [
        "str=\"I LOVE ICECREAM\"\n",
        "print(str.lower())\n"
      ],
      "metadata": {
        "colab": {
          "base_uri": "https://localhost:8080/"
        },
        "id": "H14mF4UcqqPN",
        "outputId": "5edc32e7-391d-4eab-c04e-d1788ca292d9"
      },
      "execution_count": null,
      "outputs": [
        {
          "output_type": "stream",
          "name": "stdout",
          "text": [
            "i love icecream\n"
          ]
        }
      ]
    },
    {
      "cell_type": "code",
      "source": [
        "str=\"Have a nice day!\"\n",
        "print(str.split())"
      ],
      "metadata": {
        "colab": {
          "base_uri": "https://localhost:8080/"
        },
        "id": "ksSv65bdq2MM",
        "outputId": "67c8debe-0d66-41e0-f90f-bab78c6d4dfe"
      },
      "execution_count": null,
      "outputs": [
        {
          "output_type": "stream",
          "name": "stdout",
          "text": [
            "['Have', 'a', 'nice', 'day!']\n"
          ]
        }
      ]
    },
    {
      "cell_type": "code",
      "source": [
        "a=15\n",
        "print(f\"The value of a is {a}\")"
      ],
      "metadata": {
        "colab": {
          "base_uri": "https://localhost:8080/"
        },
        "id": "LJ8ETf9nsR4I",
        "outputId": "bd3a0248-1323-4db9-89c6-9797609db8e4"
      },
      "execution_count": null,
      "outputs": [
        {
          "output_type": "stream",
          "name": "stdout",
          "text": [
            "The value of a is 15\n"
          ]
        }
      ]
    }
  ]
}